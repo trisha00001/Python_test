{
 "cells": [
  {
   "cell_type": "code",
   "execution_count": 1,
   "metadata": {},
   "outputs": [
    {
     "name": "stdout",
     "output_type": "stream",
     "text": [
      "156\n",
      "12\n"
     ]
    }
   ],
   "source": [
    "n = int(input())\n",
    "s = 0\n",
    "while  n !=0:\n",
    "    s+=n%10\n",
    "    n = n//10\n",
    "print(s)"
   ]
  },
  {
   "cell_type": "code",
   "execution_count": 1,
   "metadata": {},
   "outputs": [
    {
     "name": "stdout",
     "output_type": "stream",
     "text": [
      "78\n",
      "15\n",
      "98\n",
      "17\n"
     ]
    }
   ],
   "source": [
    "def summa(n):\n",
    "    s = 0\n",
    "    while  n !=0:\n",
    "        s+=n%10\n",
    "        n = n//10\n",
    "    return s\n",
    "\n",
    "n = int(input())\n",
    "print(summa(n))\n",
    "k = int(input())\n",
    "print(summa(k))   "
   ]
  },
  {
   "cell_type": "markdown",
   "metadata": {},
   "source": [
    "Введите 2 числа. если сумма цифр первого числа больше суммы цифр второго, то выведите 1.\n",
    "Если сумма 2 ого больше  суммы цифр первого числа2. Если они равны, то 0.\n"
   ]
  },
  {
   "cell_type": "code",
   "execution_count": null,
   "metadata": {},
   "outputs": [],
   "source": [
    "n =int(input(\"Введите первое число\"))\n",
    "m =int(input(\"Введите второе число\"))\n",
    "\n",
    "sa=0\n",
    "while n!=0:\n",
    "    sa+= n % 10\n",
    "    n = n // 10\n",
    "    \n",
    "sb=0\n",
    "while m!=0:\n",
    "    sb+= m % 10\n",
    "    m = m // 10\n",
    "    \n",
    "if sa>sb:\n",
    "    print(1)\n",
    "elif sa<sb:\n",
    "    print(2)\n",
    "else:\n",
    "    print(0)"
   ]
  },
  {
   "cell_type": "code",
   "execution_count": 4,
   "metadata": {},
   "outputs": [
    {
     "name": "stdout",
     "output_type": "stream",
     "text": [
      "Введите первое число5\n",
      "Введите второе число8\n",
      "2\n"
     ]
    }
   ],
   "source": [
    "def sch(num): \n",
    "    \"\"\"это функция сумма цифр числа\n",
    "    s num локальные переменные\"\"\"\n",
    "    s=0\n",
    "    while num!=0:\n",
    "        s+= num % 10\n",
    "        num = num // 10\n",
    "    return s\n",
    "\n",
    "n =int(input(\"Введите первое число\"))\n",
    "m =int(input(\"Введите второе число\"))\n",
    "a=sch(n)\n",
    "b=sch(m)\n",
    "if a>b:\n",
    "    print(1)\n",
    "elif a<b:\n",
    "    print(2)\n",
    "else:\n",
    "    print(0)"
   ]
  },
  {
   "cell_type": "code",
   "execution_count": 5,
   "metadata": {},
   "outputs": [
    {
     "data": {
      "text/plain": [
       "'это функция сумма цифр числа\\n    s num локальные переменные'"
      ]
     },
     "execution_count": 5,
     "metadata": {},
     "output_type": "execute_result"
    }
   ],
   "source": [
    "sch.__doc__"
   ]
  },
  {
   "cell_type": "code",
   "execution_count": null,
   "metadata": {},
   "outputs": [],
   "source": [
    "def function_name(parameters):\n",
    "\n",
    "\n",
    "\t\"\"\"docstring\"\"\"\n",
    "        \n",
    "\tstatement(s)"
   ]
  },
  {
   "cell_type": "code",
   "execution_count": null,
   "metadata": {},
   "outputs": [],
   "source": [
    "def function_name(parameters):\n",
    "\t\"\"\"docstring\"\"\"\n",
    "\tstatement(s)\n",
    "    return s # необъязательно"
   ]
  },
  {
   "cell_type": "code",
   "execution_count": 3,
   "metadata": {},
   "outputs": [
    {
     "name": "stdout",
     "output_type": "stream",
     "text": [
      "Hello,Mark\n"
     ]
    }
   ],
   "source": [
    "def hello(name):\n",
    "    print(\"Hello,\"+ name)\n",
    "    \n",
    "hello('Mark')"
   ]
  },
  {
   "cell_type": "code",
   "execution_count": 8,
   "metadata": {},
   "outputs": [
    {
     "name": "stdout",
     "output_type": "stream",
     "text": [
      "74555\n",
      "5\n"
     ]
    }
   ],
   "source": [
    "n = int(input())\n",
    "kol = 0\n",
    "while n !=0:\n",
    "    kol = kol +1\n",
    "    n = n //10\n",
    "print(kol)"
   ]
  },
  {
   "cell_type": "code",
   "execution_count": 6,
   "metadata": {},
   "outputs": [
    {
     "name": "stdout",
     "output_type": "stream",
     "text": [
      "586\n",
      "3\n"
     ]
    }
   ],
   "source": [
    "def kolvo(n):\n",
    "    \"\"\"\n",
    "    рлол шшлшл\n",
    "    \"\"\"\n",
    "    kol = 0\n",
    "    while n !=0:\n",
    "        kol = kol +1\n",
    "        n = n //10\n",
    "    return kol\n",
    "\n",
    "n = int(input())\n",
    "print(kolvo(n))\n",
    "\n",
    "    "
   ]
  },
  {
   "cell_type": "code",
   "execution_count": 7,
   "metadata": {},
   "outputs": [
    {
     "name": "stdout",
     "output_type": "stream",
     "text": [
      "\n",
      "    рлол шшлшл\n",
      "    \n"
     ]
    }
   ],
   "source": [
    "print(kolvo.__doc__)"
   ]
  },
  {
   "cell_type": "code",
   "execution_count": 13,
   "metadata": {},
   "outputs": [
    {
     "name": "stdout",
     "output_type": "stream",
     "text": [
      "[3, 4]\n"
     ]
    }
   ],
   "source": [
    "def kol(n):\n",
    "    t = []\n",
    "    for i in range(len(n)):\n",
    "        t. append(sum(n[i]))\n",
    "    return t\n",
    "    \n",
    "    \n",
    "n = [[1,2], [1,3]]\n",
    "print(kol(n))"
   ]
  },
  {
   "cell_type": "markdown",
   "metadata": {},
   "source": [
    "Выше показано определение функции, состоящее из следующих компонентов.\n",
    "\n",
    "1. Ключевое слово def, обозначающее начало заголовка функции.\n",
    "2. Имя функции для уникальной идентификации функции. Именование функций следует тем же правилам написания идентификаторов в Python .\n",
    "3. Параметры (аргументы), через которые мы передаем значения в функцию. Они являются необязательными.\n",
    "4. Двоеточие (:) для обозначения конца заголовка функции.\n",
    "5. Необязательная строка документации (docstring) для описания того, что делает функция.\n",
    "6. Один или несколько допустимых операторов Python, составляющих тело функции. Операторы должны иметь одинаковый уровень отступа (обычно 4 пробела).\n",
    "7. Необязательный return оператор для возврата значения из функции."
   ]
  },
  {
   "cell_type": "code",
   "execution_count": 14,
   "metadata": {},
   "outputs": [
    {
     "name": "stdout",
     "output_type": "stream",
     "text": [
      "8\n"
     ]
    }
   ],
   "source": [
    "def f(x,y): # функция\n",
    "    '''Функция возведения х в степень у''' # документация\n",
    "    return x**y # возвращается значение\n",
    "\n",
    "print(f(2,3))\n",
    "  "
   ]
  },
  {
   "cell_type": "code",
   "execution_count": 5,
   "metadata": {},
   "outputs": [
    {
     "name": "stdout",
     "output_type": "stream",
     "text": [
      "8\n"
     ]
    }
   ],
   "source": [
    "def f(x,y): # функция\n",
    "    '''Функция возведения х в степень у''' # документация\n",
    "    return x**y # возвращается значение\n",
    "\n",
    "print(f(y=3, x=2))\n",
    "    "
   ]
  },
  {
   "cell_type": "code",
   "execution_count": 5,
   "metadata": {},
   "outputs": [
    {
     "name": "stdout",
     "output_type": "stream",
     "text": [
      "8\n"
     ]
    }
   ],
   "source": [
    "def f(x,y): # функция\n",
    "    '''Процедура возведения х в степень у''' # документация\n",
    "    print(x**y) # печать результата\n",
    "\n",
    "f(2,3)\n",
    "    "
   ]
  },
  {
   "cell_type": "code",
   "execution_count": 15,
   "metadata": {},
   "outputs": [
    {
     "name": "stdout",
     "output_type": "stream",
     "text": [
      "8\n",
      "None\n"
     ]
    }
   ],
   "source": [
    "def f(x,y): # функция\n",
    "    '''Процедура возведения х в степень у''' # документация\n",
    "    print(x**y) # печать результата\n",
    "\n",
    "print(f(2,3))"
   ]
  },
  {
   "cell_type": "code",
   "execution_count": 16,
   "metadata": {},
   "outputs": [
    {
     "name": "stdout",
     "output_type": "stream",
     "text": [
      "Процедура возведения х в степень у\n"
     ]
    }
   ],
   "source": [
    "print(f.__doc__)"
   ]
  },
  {
   "cell_type": "code",
   "execution_count": 17,
   "metadata": {},
   "outputs": [
    {
     "name": "stdout",
     "output_type": "stream",
     "text": [
      "Help on function f in module __main__:\n",
      "\n",
      "f(x, y)\n",
      "    Процедура возведения х в степень у\n",
      "\n"
     ]
    }
   ],
   "source": [
    "help(f)"
   ]
  },
  {
   "cell_type": "code",
   "execution_count": null,
   "metadata": {},
   "outputs": [],
   "source": [
    "def sch(num): \n",
    "    \"\"\"это функция смму\"\"\"\n",
    "    s=0\n",
    "    while num!=0:\n",
    "        s+= num % 10\n",
    "        num = num // 10\n",
    "    return s\n",
    "\n",
    "print(sch.__doc__)"
   ]
  },
  {
   "cell_type": "markdown",
   "metadata": {},
   "source": [
    "Напишите функцию модуль числа"
   ]
  },
  {
   "cell_type": "code",
   "execution_count": 10,
   "metadata": {},
   "outputs": [
    {
     "name": "stdout",
     "output_type": "stream",
     "text": [
      "2\n",
      "4\n"
     ]
    }
   ],
   "source": [
    "def absolute_value(num):\n",
    "    \"\"\"This function returns the absolute\n",
    "    value of the entered number\"\"\"\n",
    "\n",
    "    if num < 0:\n",
    "        num = -num\n",
    "    return num\n",
    "\n",
    "\n",
    "print(absolute_value(2))\n",
    "\n",
    "print(absolute_value(-4))"
   ]
  },
  {
   "cell_type": "code",
   "execution_count": 11,
   "metadata": {},
   "outputs": [
    {
     "name": "stdout",
     "output_type": "stream",
     "text": [
      "156\n",
      "12\n"
     ]
    }
   ],
   "source": [
    "num = int(input())\n",
    "s=0\n",
    "while num!=0:\n",
    "    s+= num % 10\n",
    "    num = num // 10\n",
    "print(s)"
   ]
  },
  {
   "cell_type": "code",
   "execution_count": 13,
   "metadata": {},
   "outputs": [
    {
     "name": "stdout",
     "output_type": "stream",
     "text": [
      "Введите первое число56\n",
      "сумма цифр числа 56 = 11\n",
      "Введите второе число89\n",
      "сумма цифр числа 89 = 17\n"
     ]
    }
   ],
   "source": [
    "def sch(num): \n",
    "    \"\"\"это функция сумма цифр числа\"\"\"\n",
    "    s=0\n",
    "    while num!=0:\n",
    "        s+= num % 10\n",
    "        num = num // 10\n",
    "    return s\n",
    "\n",
    "n =int(input(\"Введите первое число\"))\n",
    "z=sch(n)\n",
    "print(\"сумма цифр числа\",n, \"=\", z)\n",
    "m =int(input(\"Введите второе число\"))\n",
    "print(\"сумма цифр числа\",m, \"=\",sch(m))"
   ]
  },
  {
   "cell_type": "code",
   "execution_count": null,
   "metadata": {},
   "outputs": [],
   "source": [
    "def power(num,st): \n",
    "    return num**st\n",
    "\n",
    "num =int(input())  \n",
    "st =int(input())\n",
    "print(power(num,st))"
   ]
  },
  {
   "cell_type": "code",
   "execution_count": null,
   "metadata": {},
   "outputs": [],
   "source": [
    "import math\n",
    "def distance(x1, y1, x2, y2):\n",
    "    return math.sqrt((x1-x2)**2+(y1-y2)**2)\n",
    "\n",
    "a1,b1,a2,b2=float(input()), float(input()),float(input()), float(input())\n",
    "print(distance(a1, b1, a2, b2))"
   ]
  },
  {
   "cell_type": "code",
   "execution_count": null,
   "metadata": {},
   "outputs": [],
   "source": [
    "def minimum(a, b):\n",
    "    \"\"\" минимум \"\"\"\n",
    "    if a < b:\n",
    "        return  a\n",
    "    else:\n",
    "        return  b\n",
    "\n",
    "\n",
    "a1, b1, a2, b2 = map (int, input().split())\n",
    "print(minimum(minimum(a1, b1), minimum(a2, b2)))"
   ]
  },
  {
   "cell_type": "code",
   "execution_count": null,
   "metadata": {},
   "outputs": [],
   "source": [
    "def xor(a,b):\n",
    "    if a==b:\n",
    "        return 0\n",
    "    else:\n",
    "        return 1\n",
    "        \n",
    "x,y = map(int, input().split())\n",
    "print(xor(x,y))"
   ]
  },
  {
   "cell_type": "code",
   "execution_count": null,
   "metadata": {},
   "outputs": [],
   "source": [
    "https://docs.python.org/3/library/index.html\n",
    "https://www.netacad.com/  \n",
    "https://www.netacad.com/courses/programming"
   ]
  },
  {
   "cell_type": "code",
   "execution_count": null,
   "metadata": {},
   "outputs": [],
   "source": [
    "ДЗ\n",
    "https://informatics.msk.ru/mod/statements/view.php?id=26735&chapterid=113654#1"
   ]
  }
 ],
 "metadata": {
  "kernelspec": {
   "display_name": "Python 3",
   "language": "python",
   "name": "python3"
  },
  "language_info": {
   "codemirror_mode": {
    "name": "ipython",
    "version": 3
   },
   "file_extension": ".py",
   "mimetype": "text/x-python",
   "name": "python",
   "nbconvert_exporter": "python",
   "pygments_lexer": "ipython3",
   "version": "3.8.3"
  }
 },
 "nbformat": 4,
 "nbformat_minor": 4
}
