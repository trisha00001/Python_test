{
 "cells": [
  {
   "cell_type": "markdown",
   "metadata": {},
   "source": [
    "Напишите программу, которая находит сумму, произведение и среднее арифметическое трёх целых чисел, введённых с клавиатуры.\n",
    "\n",
    "Входные данные\n",
    "\n",
    "Три целых числа вводятся c новой строчки.\n",
    "\n",
    "Выходные данные\n",
    "\n",
    "Программа должна вывести сумму, произведение и среднее арифметическое введенных чисел. Среднее арифметическое нужно вывести с точностью 3 знака после десятичной"
   ]
  },
  {
   "cell_type": "markdown",
   "metadata": {},
   "source": [
    "4\n",
    "5\n",
    "7\n",
    "\n",
    "Выходные значения\n",
    "\n",
    "4+5+7=16<br>\n",
    "4*5*7=140 <br>\n",
    "(4+5+7)/3=5.333 <br>"
   ]
  },
  {
   "cell_type": "code",
   "execution_count": 4,
   "metadata": {},
   "outputs": [
    {
     "name": "stdout",
     "output_type": "stream",
     "text": [
      "2\n",
      "3\n",
      "4\n",
      "2+3+4=9\n",
      "2*3*4=24\n",
      "(2+3+4)/3=3.000\n"
     ]
    }
   ],
   "source": [
    "x=int(input())\n",
    "y=int(input())\n",
    "z=int(input())\n",
    "print(\"{}+{}+{}={}\".format(x, y, z, (x+y+z)))\n",
    "print(\"{}*{}*{}={}\".format(x, y, z, (x*y*z)))\n",
    "print(\"({:d}+{:d}+{:d})/3={:.3f}\".format(x, y, z, (x+y+z)/3))"
   ]
  },
  {
   "cell_type": "code",
   "execution_count": 3,
   "metadata": {},
   "outputs": [
    {
     "name": "stdout",
     "output_type": "stream",
     "text": [
      "5\n",
      "5\n",
      "5\n",
      "5+5+5=15\n",
      "5*5*5=125\n",
      "(5+5+5)/3=5.000\n"
     ]
    }
   ],
   "source": [
    "a=int(input())\n",
    "b=int(input())\n",
    "c=int(input())\n",
    "print(f'{a}+{b}+{c}={a+b+c}')\n",
    "print(f'{a}*{b}*{c}={a*b*c}')\n",
    "print(f'({a}+{b}+{c})/3={((a+b+c)/3):.3f}')"
   ]
  },
  {
   "cell_type": "code",
   "execution_count": 4,
   "metadata": {},
   "outputs": [
    {
     "name": "stdout",
     "output_type": "stream",
     "text": [
      "5\n",
      "5\n",
      "5\n",
      "5+5+5=15\n",
      "5*5*5=125\n",
      "(5+5+5)/3=5.000\n"
     ]
    }
   ],
   "source": [
    "x = int(input())\n",
    "y = int(input())\n",
    "z = int(input())\n",
    "print(\"%d+%d+%d=%d\" % (x, y, z, (x+y+z)))\n",
    "print(\"%d*%d*%d=%d\" % (x, y, z, (x*y*z)))\n",
    "print(\"(%d+%d+%d)/3=%.3f\" % (x, y, z, (x+y+z)/3))"
   ]
  },
  {
   "cell_type": "code",
   "execution_count": 6,
   "metadata": {},
   "outputs": [
    {
     "name": "stdout",
     "output_type": "stream",
     "text": [
      "5\n",
      "5\n",
      "5\n",
      "5+5+5=15\n",
      "5*5*5=125\n",
      "(5+5+5)/3=5.000\n"
     ]
    }
   ],
   "source": [
    "x=int(input())\n",
    "y=int(input())\n",
    "z=int(input())\n",
    "print(\"{}+{}+{}={}\".format(x, y, z, (x+y+z)))\n",
    "print(\"{}*{}*{}={}\".format(x, y, z, (x*y*z)))\n",
    "print(\"({}+{}+{})/3={:.3f}\".format(x, y, z, (x+y+z)/3))"
   ]
  },
  {
   "cell_type": "code",
   "execution_count": 13,
   "metadata": {},
   "outputs": [
    {
     "name": "stdout",
     "output_type": "stream",
     "text": [
      "5\n",
      "6\n",
      "5\n",
      "5+6+5=16\n",
      "5*6*5=150\n",
      "(5+6+5)/3=5.333\n"
     ]
    }
   ],
   "source": [
    "x=int(input())\n",
    "y=int(input())\n",
    "z=int(input())\n",
    "print(\"{}+{}+{}={}\".format(x, y, z, (x+y+z)))\n",
    "print(f\"{x}*{y}*{z}={x*y*z}\")\n",
    "print(\"(%d+%d+%d)/3=%.3f\" % (x, y, z, (x+y+z)/3))"
   ]
  },
  {
   "cell_type": "markdown",
   "metadata": {},
   "source": [
    "Напишите программу, которая вводит радиус круга и вычисляет его площадь и длину окружности.\n",
    "\n",
    "Входные данные\n",
    "Входная строка содержит одно число - радиус круга.\n",
    "\n",
    "Выходные данные\n",
    "В первой строке должно быть выведена площадь круга, а во второй строке - длина окружности. Оба значения выводятся с тремя знаками в дробной части."
   ]
  },
  {
   "cell_type": "code",
   "execution_count": 1,
   "metadata": {},
   "outputs": [
    {
     "data": {
      "text/plain": [
       "766247770432944429179173513575154591809369561091801088"
      ]
     },
     "execution_count": 1,
     "metadata": {},
     "output_type": "execute_result"
    }
   ],
   "source": [
    "2**179"
   ]
  },
  {
   "cell_type": "code",
   "execution_count": 14,
   "metadata": {},
   "outputs": [
    {
     "name": "stdout",
     "output_type": "stream",
     "text": [
      "5\n",
      "Площадь круга 78.540\n",
      "31.416\n"
     ]
    }
   ],
   "source": [
    "from math import pi\n",
    "r = float(input())\n",
    "S = pi*r*r\n",
    "print('Площадь круга %.3f' %S)\n",
    "l=2*pi*r\n",
    "print(f\"{:.3f}\")\n",
    "\n"
   ]
  },
  {
   "cell_type": "code",
   "execution_count": 10,
   "metadata": {},
   "outputs": [
    {
     "name": "stdout",
     "output_type": "stream",
     "text": [
      "3.141592653589793\n"
     ]
    }
   ],
   "source": [
    "import math\n",
    "print(math.pi)"
   ]
  },
  {
   "cell_type": "code",
   "execution_count": 12,
   "metadata": {},
   "outputs": [
    {
     "name": "stdout",
     "output_type": "stream",
     "text": [
      "3.141592653589793\n"
     ]
    }
   ],
   "source": [
    "from math import pi\n",
    "print(pi)"
   ]
  },
  {
   "cell_type": "code",
   "execution_count": 2,
   "metadata": {},
   "outputs": [
    {
     "name": "stdout",
     "output_type": "stream",
     "text": [
      "2432902008176640000\n"
     ]
    }
   ],
   "source": [
    "print(1*2*3*4*5*6*7*8*9*10*11*12*13*14*15*16*17*18*19*20)\n"
   ]
  },
  {
   "cell_type": "markdown",
   "metadata": {},
   "source": [
    "<a id='t3'></a>\n",
    "# Условный оператор"
   ]
  },
  {
   "cell_type": "markdown",
   "metadata": {},
   "source": [
    "<a id='p3'></a>\n",
    "# Логические выражения"
   ]
  },
  {
   "cell_type": "markdown",
   "metadata": {},
   "source": [
    "<pre>\n",
    "\n",
    "    !=                  ==                  >=                  <=  \n",
    "    <                   >                   or                  and\n",
    "    not()\n",
    "\n",
    "</pre>"
   ]
  },
  {
   "cell_type": "code",
   "execution_count": 8,
   "metadata": {},
   "outputs": [
    {
     "name": "stdout",
     "output_type": "stream",
     "text": [
      "True\n",
      "False\n"
     ]
    }
   ],
   "source": [
    "var = 0  # Assigning 0 to var\n",
    "print(var == 0)\n",
    "\n",
    "var = 1  # Assigning 1 to var\n",
    "print(var == 0)"
   ]
  },
  {
   "cell_type": "code",
   "execution_count": 9,
   "metadata": {},
   "outputs": [
    {
     "name": "stdout",
     "output_type": "stream",
     "text": [
      "True\n",
      "False\n"
     ]
    }
   ],
   "source": [
    "var = 4  # Assigning 0 to var\n",
    "print(var % 2 == 0)\n",
    "\n",
    "var = 5  # Assigning 1 to var\n",
    "print(var % 2 == 0)"
   ]
  },
  {
   "cell_type": "code",
   "execution_count": 16,
   "metadata": {},
   "outputs": [
    {
     "name": "stdout",
     "output_type": "stream",
     "text": [
      "False\n",
      "True\n"
     ]
    }
   ],
   "source": [
    "var = 0  # Assigning 0 to var\n",
    "print(var != 0)\n",
    "\n",
    "var = 1  # Assigning 1 to var\n",
    "print(var != 0)"
   ]
  },
  {
   "cell_type": "code",
   "execution_count": 3,
   "metadata": {},
   "outputs": [
    {
     "name": "stdout",
     "output_type": "stream",
     "text": [
      "True\n"
     ]
    }
   ],
   "source": [
    "var = 5  # Assigning 1 to var\n",
    "print(not(var % 2 == 0))"
   ]
  },
  {
   "cell_type": "code",
   "execution_count": 4,
   "metadata": {},
   "outputs": [
    {
     "name": "stdout",
     "output_type": "stream",
     "text": [
      "True\n"
     ]
    }
   ],
   "source": [
    "var = 5  # Assigning 1 to var\n",
    "print( (var>=5) and (var <= 100))"
   ]
  },
  {
   "cell_type": "code",
   "execution_count": 5,
   "metadata": {},
   "outputs": [
    {
     "name": "stdout",
     "output_type": "stream",
     "text": [
      "True\n"
     ]
    }
   ],
   "source": [
    "var = 5  # Assigning 1 to var\n",
    "print( (var<=5) or (var >= 100))"
   ]
  },
  {
   "cell_type": "markdown",
   "metadata": {},
   "source": [
    "Используя один из операторов сравнения в Python, напишите простую двухстрочную программу, которая принимает в качестве входных данных параметр n, являющийся целым числом, и выводит False, если n меньше 100, и True, если n больше или равно 100."
   ]
  },
  {
   "cell_type": "markdown",
   "metadata": {},
   "source": [
    "<pre>\n",
    "Sample input: 55\n",
    "\n",
    "Expected output: False\n",
    "\n",
    "Sample input: 99\n",
    "\n",
    "Expected output: False\n",
    "\n",
    "Sample input: 100\n",
    "\n",
    "Expected output: True\n",
    "\n",
    "Sample input: 101\n",
    "\n",
    "Expected output: True\n",
    "\n",
    "Sample input: -5\n",
    "\n",
    "Expected output: False\n",
    "\n",
    "Sample input: +123\n",
    "\n",
    "Expected output: True\n",
    "\n",
    "</pre>"
   ]
  },
  {
   "cell_type": "code",
   "execution_count": 29,
   "metadata": {},
   "outputs": [
    {
     "name": "stdout",
     "output_type": "stream",
     "text": [
      "5\n",
      "False\n"
     ]
    }
   ],
   "source": [
    "n=int(input())\n",
    "print(n>=100)"
   ]
  },
  {
   "cell_type": "markdown",
   "metadata": {},
   "source": [
    "<a id='p3'></a>\n",
    "# if-else"
   ]
  },
  {
   "cell_type": "markdown",
   "metadata": {},
   "source": [
    "![xkcd_python](https://cdn.techbeamers.com/wp-content/uploads/2018/08/Python-Decision-Making-If-Elif-Else-Statements.png)"
   ]
  },
  {
   "attachments": {
    "56.png": {
     "image/png": "[encoded data removed]"
    }
   },
   "cell_type": "markdown",
   "metadata": {},
   "source": [
    "![56.png](attachment:56.png)"
   ]
  },
  {
   "cell_type": "code",
   "execution_count": null,
   "metadata": {},
   "outputs": [],
   "source": [
    " if Условие:\n",
    " \n",
    "     Блок инструкций 1\n"
   ]
  },
  {
   "cell_type": "code",
   "execution_count": 7,
   "metadata": {},
   "outputs": [
    {
     "name": "stdout",
     "output_type": "stream",
     "text": [
      "-9\n",
      "9\n"
     ]
    }
   ],
   "source": [
    "x = int(input())\n",
    "if x < 0:\n",
    "    x = -x\n",
    "print(x)"
   ]
  },
  {
   "attachments": {
    "51.png": {
     "image/png": "[encoded data removed]"
    }
   },
   "cell_type": "markdown",
   "metadata": {},
   "source": [
    "![51.png](attachment:51.png)"
   ]
  },
  {
   "cell_type": "code",
   "execution_count": null,
   "metadata": {},
   "outputs": [],
   "source": [
    "x = int(input())\n",
    "if x > 0:\n",
    "    print('Число положительное')\n",
    "else:\n",
    "    print('Число отрицательное')"
   ]
  },
  {
   "cell_type": "code",
   "execution_count": 9,
   "metadata": {},
   "outputs": [
    {
     "name": "stdout",
     "output_type": "stream",
     "text": [
      "go_for_a_walk\n",
      "have_lunch\n"
     ]
    }
   ],
   "source": [
    "the_weather_is_good=1\n",
    "if the_weather_is_good==1:\n",
    "    print('go_for_a_walk')\n",
    "else:\n",
    "    print('go_to_a_theater')\n",
    "print('have_lunch')\n"
   ]
  },
  {
   "cell_type": "code",
   "execution_count": null,
   "metadata": {},
   "outputs": [],
   "source": [
    "if the_weather_is_good:\n",
    "    print('go_for_a_walk')\n",
    "    print('have_fun')\n",
    "else:\n",
    "    print('go_to_a_theater')\n",
    "    print('enjoy_the_movie')\n",
    "print('have_lunch')"
   ]
  },
  {
   "cell_type": "code",
   "execution_count": null,
   "metadata": {},
   "outputs": [],
   "source": [
    "#Вложенные условные инструкции\n",
    "x = int(input())\n",
    "y = int(input())\n",
    "if x > 0:\n",
    "    if y > 0:               # x > 0, y > 0\n",
    "        print(\"Первая четверть\")\n",
    "    else:                   # x > 0, y < 0\n",
    "        print(\"Четвертая четверть\")\n",
    "else:\n",
    "    if y > 0:               # x < 0, y > 0\n",
    "        print(\"Вторая четверть\")\n",
    "    else:                   # x < 0, y < 0\n",
    "        print(\"Третья четверть\")"
   ]
  },
  {
   "attachments": {
    "54.png": {
     "image/png": "[encoded data removed]"
    }
   },
   "cell_type": "markdown",
   "metadata": {},
   "source": [
    "![54.png](attachment:54.png)"
   ]
  },
  {
   "cell_type": "code",
   "execution_count": 30,
   "metadata": {},
   "outputs": [
    {
     "name": "stdout",
     "output_type": "stream",
     "text": [
      "0\n",
      "Число ноль\n"
     ]
    }
   ],
   "source": [
    "x = int(input())\n",
    "if x > 0:\n",
    "    print('Число положительное')\n",
    "elif x==0:\n",
    "    print('Число ноль')\n",
    "else:\n",
    "    print('Число отрицательное')"
   ]
  },
  {
   "cell_type": "code",
   "execution_count": null,
   "metadata": {},
   "outputs": [],
   "source": [
    "# Каскадные условные инструкции\n",
    "x = int(input())\n",
    "y = int(input())\n",
    "if x > 0 and y > 0:\n",
    "    print(\"Первая четверть\")\n",
    "elif x > 0 and y < 0:\n",
    "    print(\"Четвертая четверть\")\n",
    "elif y > 0:\n",
    "    print(\"Вторая четверть\")\n",
    "else:\n",
    "    print(\"Третья четверть\")"
   ]
  },
  {
   "cell_type": "code",
   "execution_count": null,
   "metadata": {},
   "outputs": [],
   "source": [
    "x = int(input())\n",
    "if 100 <= x <= 999:\n",
    "    print('Yes')\n",
    "else:\n",
    "    print('No')"
   ]
  },
  {
   "cell_type": "code",
   "execution_count": 98,
   "metadata": {},
   "outputs": [
    {
     "name": "stdout",
     "output_type": "stream",
     "text": [
      "1236\n",
      "NO\n"
     ]
    }
   ],
   "source": [
    "n=int(input())\n",
    "a1=bool(n//100)\n",
    "a2=bool(n//1000)\n",
    "t= a1 & (not(a2))\n",
    "print(int(not(t))*'NO'+'YES'*int(t))"
   ]
  },
  {
   "cell_type": "code",
   "execution_count": 79,
   "metadata": {},
   "outputs": [
    {
     "data": {
      "text/plain": [
       "''"
      ]
     },
     "execution_count": 79,
     "metadata": {},
     "output_type": "execute_result"
    }
   ],
   "source": [
    "print(t*'NO'+'YES'*t)"
   ]
  },
  {
   "cell_type": "code",
   "execution_count": null,
   "metadata": {},
   "outputs": [],
   "source": []
  },
  {
   "cell_type": "markdown",
   "metadata": {},
   "source": [
    "Рассмотрим примеры.Все примеры решают одну и ту же задачу — находят наибольшее из нескольких чисел и выводят его на печать."
   ]
  },
  {
   "cell_type": "code",
   "execution_count": null,
   "metadata": {},
   "outputs": [],
   "source": [
    "# Read two numbers\n",
    "number1 = int(input(\"Enter the first number: \"))\n",
    "number2 = int(input(\"Enter the second number: \"))\n",
    "\n",
    "# Choose the larger number\n",
    "if number1 > number2:\n",
    "    larger_number = number1\n",
    "else:\n",
    "    larger_number = number2\n",
    "\n",
    "# Print the result\n",
    "print(\"The larger number is:\", larger_number)\n",
    "\n"
   ]
  },
  {
   "cell_type": "markdown",
   "metadata": {},
   "source": [
    "Этот стиль, однако, может вводить в заблуждение, и мы не собираемся использовать его в наших будущих программах, но его определенно стоит знать, если вы хотите читать и понимать чужие программы.\n",
    "\n",
    "Других отличий в коде нет."
   ]
  },
  {
   "cell_type": "code",
   "execution_count": null,
   "metadata": {},
   "outputs": [],
   "source": [
    "# Read two numbers\n",
    "number1 = int(input(\"Enter the first number: \"))\n",
    "number2 = int(input(\"Enter the second number: \"))\n",
    "\n",
    "# Choose the larger number\n",
    "if number1 > number2: larger_number = number1\n",
    "else: larger_number = number2\n",
    "\n",
    "# Print the result\n",
    "print(\"The larger number is:\", larger_number)\n",
    "\n"
   ]
  },
  {
   "cell_type": "code",
   "execution_count": null,
   "metadata": {},
   "outputs": [],
   "source": []
  },
  {
   "cell_type": "code",
   "execution_count": null,
   "metadata": {},
   "outputs": [],
   "source": [
    "# Read three numbers\n",
    "number1 = int(input(\"Enter the first number: \"))\n",
    "number2 = int(input(\"Enter the second number: \"))\n",
    "number3 = int(input(\"Enter the third number: \"))\n",
    "\n",
    "# We temporarily assume that the first number\n",
    "# is the largest one.\n",
    "# We will verify this soon.\n",
    "largest_number = number1\n",
    "\n",
    "# We check if the second number is larger than current largest_number\n",
    "# and update largest_number if needed.\n",
    "if number2 > largest_number:\n",
    "    largest_number = number2\n",
    "\n",
    "# We check if the third number is larger than current largest_number\n",
    "# and update largest_number if needed.\n",
    "if number3 > largest_number:\n",
    "    largest_number = number3\n",
    "\n",
    "# Print the result\n",
    "print(\"The largest number is:\", largest_number)\n",
    "\n"
   ]
  },
  {
   "cell_type": "code",
   "execution_count": null,
   "metadata": {},
   "outputs": [],
   "source": [
    "# Read three numbers\n",
    "number1 = int(input(\"Enter the first number: \"))\n",
    "number2 = int(input(\"Enter the second number: \"))\n",
    "number3 = int(input(\"Enter the third number: \"))\n",
    "\n",
    "# We temporarily assume that the first number\n",
    "# is the largest one.\n",
    "# We will verify this soon.\n",
    "largest_number = number1\n",
    "\n",
    "# We check if the second number is larger than current largest_number\n",
    "# and update largest_number if needed.\n",
    "if number2 > largest_number:\n",
    "    largest_number = number2\n",
    "\n",
    "# We check if the third number is larger than current largest_number\n",
    "# and update largest_number if needed.\n",
    "if number3 > largest_number:\n",
    "    largest_number = number3\n",
    "\n",
    "# Print the result\n",
    "print(\"The largest number is:\", largest_number)\n",
    "\n"
   ]
  },
  {
   "cell_type": "markdown",
   "metadata": {},
   "source": [
    "Требуется определить, является ли данный год високосным. (Напомним, что год является високосным, если его номер кратен 4, но не кратен 100, а также если он кратен 400.)\n",
    "\n",
    "Входные данные\n",
    "Вводится единственное число - номер года (целое, положительное, не превышает 30000).\n",
    "\n",
    "Выходные данные\n",
    "Требуется вывести слово YES, если год является високосным и NO - в противном случае.<br>\n",
    "2007<br>\n",
    "NO<br>\n",
    "2000<br>\n",
    "YES"
   ]
  },
  {
   "cell_type": "markdown",
   "metadata": {},
   "source": [
    "В математике функция sign(x) (знак числа) определена так:\n",
    "\n",
    "sign(x) = 1, если x > 0,\n",
    "\n",
    "sign(x) = -1, если x < 0,\n",
    "\n",
    "sign(x) = 0, если x = 0."
   ]
  },
  {
   "cell_type": "code",
   "execution_count": null,
   "metadata": {},
   "outputs": [],
   "source": []
  },
  {
   "cell_type": "markdown",
   "metadata": {},
   "source": [
    "Даны три целых числа. Определите, сколько среди них совпадающих. Программа должна вывести одно из чисел: 3 (если все совпадают), 2 (если два совпадает) или 0 (если все числа различны)."
   ]
  },
  {
   "cell_type": "code",
   "execution_count": null,
   "metadata": {},
   "outputs": [],
   "source": []
  },
  {
   "cell_type": "markdown",
   "metadata": {},
   "source": [
    "Напишите программу, которая вводит номер месяца и выводит название времени года на английском языке. При вводе неверного номера месяца должно быть выведено слово 'NO'.\n",
    "\n",
    "Входные данные\n",
    "\n",
    "Входная строка содержит единственное число – номер месяца (возможно, неверный).\n",
    "\n",
    "Выходные данные\n",
    "\n",
    "Нужно вывести название времени года (на английском языке), соответствующее введённому номеру месяца ('winter' – зима, 'spring' – весна, 'summer' – лето, 'autumn' – осень). Если введён неверный номер месяца, программы должна вывести слово 'NO'."
   ]
  },
  {
   "cell_type": "code",
   "execution_count": null,
   "metadata": {},
   "outputs": [],
   "source": []
  },
  {
   "cell_type": "markdown",
   "metadata": {},
   "source": [
    "Спатифиллум, более известный как мирная лилия или белый парус, является одним из самых популярных комнатных растений, отфильтровывающих вредные токсины из воздуха. Некоторые из токсинов, которые он нейтрализует, включают бензол, формальдегид и аммиак.\n",
    "\n",
    "Представьте, что ваша компьютерная программа любит эти растения. Всякий раз, когда он получает ввод в виде слова спатифиллум, он невольно выкрикивает в консоль следующую строку: «Спатифиллум — лучшее растение на свете!»\n"
   ]
  },
  {
   "cell_type": "code",
   "execution_count": null,
   "metadata": {},
   "outputs": [],
   "source": []
  },
  {
   "cell_type": "markdown",
   "metadata": {},
   "source": [
    "Можно расширить оператор на несколько строк с помощью символа продолжения строки (\\)"
   ]
  },
  {
   "cell_type": "code",
   "execution_count": 6,
   "metadata": {},
   "outputs": [
    {
     "data": {
      "text/plain": [
       "45"
      ]
     },
     "execution_count": 6,
     "metadata": {},
     "output_type": "execute_result"
    }
   ],
   "source": [
    "a = 1 + 2 + 3 + \\\n",
    "    4 + 5 + 6 + \\\n",
    "    7 + 8 + 9\n",
    "a"
   ]
  },
  {
   "cell_type": "code",
   "execution_count": 8,
   "metadata": {},
   "outputs": [
    {
     "data": {
      "text/plain": [
       "45"
      ]
     },
     "execution_count": 8,
     "metadata": {},
     "output_type": "execute_result"
    }
   ],
   "source": [
    "a = (1 + 2 + 3 +\n",
    "    4 + 5 + 6 +\n",
    "    7 + 8 + 9)\n",
    "a"
   ]
  },
  {
   "cell_type": "markdown",
   "metadata": {},
   "source": [
    "<a id='t4'></a>\n",
    "#  Циклы"
   ]
  },
  {
   "cell_type": "markdown",
   "metadata": {},
   "source": [
    "![xkcd_python](https://cdn.programiz.com/sites/tutorial2program/files/forLoop.jpg)"
   ]
  },
  {
   "cell_type": "code",
   "execution_count": null,
   "metadata": {},
   "outputs": [],
   "source": [
    "for i in range(5):\n",
    "    print(i)"
   ]
  },
  {
   "cell_type": "code",
   "execution_count": null,
   "metadata": {},
   "outputs": [],
   "source": [
    "for i in range(1,5):\n",
    "    print(i)"
   ]
  },
  {
   "cell_type": "code",
   "execution_count": null,
   "metadata": {},
   "outputs": [],
   "source": [
    "for i in range(1,5,2):\n",
    "    print(i)"
   ]
  },
  {
   "cell_type": "code",
   "execution_count": null,
   "metadata": {},
   "outputs": [],
   "source": [
    "i = 1\n",
    "while i < 5:\n",
    "    print(i)\n",
    "    i += 1"
   ]
  },
  {
   "cell_type": "code",
   "execution_count": null,
   "metadata": {},
   "outputs": [],
   "source": [
    "i = 1\n",
    "while i < 100:\n",
    "    print(i**2)\n",
    "    i += i**2  # a += b is short for a = a + b"
   ]
  },
  {
   "cell_type": "markdown",
   "metadata": {},
   "source": [
    "break - немедленно выходит из цикла и безоговорочно завершает работу цикла; программа начинает выполнение инструкции, ближайшей после тела цикла;\n",
    "\n",
    "continue — ведет себя так, как будто программа внезапно достигла конца тела; начинается следующий ход, и немедленно проверяется выражение условия."
   ]
  },
  {
   "cell_type": "code",
   "execution_count": null,
   "metadata": {},
   "outputs": [],
   "source": [
    "i = 1\n",
    "while i < 5:\n",
    "    print(i)\n",
    "    i += 1\n",
    "else:\n",
    "    print(\"else:\", i)\n"
   ]
  },
  {
   "cell_type": "code",
   "execution_count": null,
   "metadata": {},
   "outputs": [],
   "source": [
    "for i in range(5):\n",
    "    print(i)\n",
    "else:\n",
    "    print(\"else:\", i)\n"
   ]
  },
  {
   "cell_type": "code",
   "execution_count": null,
   "metadata": {},
   "outputs": [],
   "source": [
    "# break - example\n",
    "\n",
    "print(\"The break instruction:\")\n",
    "for i in range(1, 6):\n",
    "    if i == 3:\n",
    "        break\n",
    "    print(\"Inside the loop.\", i)\n",
    "print(\"Outside the loop.\")"
   ]
  },
  {
   "cell_type": "code",
   "execution_count": null,
   "metadata": {},
   "outputs": [],
   "source": [
    "# continue - example\n",
    "\n",
    "print(\"\\nThe continue instruction:\")\n",
    "for i in range(1, 6):\n",
    "    if i == 3:\n",
    "        continue\n",
    "    print(\"Inside the loop.\", i)\n",
    "print(\"Outside the loop.\")"
   ]
  },
  {
   "cell_type": "code",
   "execution_count": null,
   "metadata": {},
   "outputs": [],
   "source": [
    "for num in range(2, 10):\n",
    "    if num % 2 == 0:\n",
    "        continue # this jumps us back to the top\n",
    "    print(f\"Found {num}, an odd number\")"
   ]
  },
  {
   "cell_type": "code",
   "execution_count": null,
   "metadata": {},
   "outputs": [],
   "source": [
    "n = 64\n",
    "for x in range(2, n):\n",
    "    if n % x == 0: # if n divisible by x\n",
    "        print(f'{n} equals {x} * {n // x}')\n",
    "        break"
   ]
  },
  {
   "cell_type": "code",
   "execution_count": null,
   "metadata": {},
   "outputs": [],
   "source": [
    "for i in range(5):\n",
    "    for j in range(5*i):\n",
    "        if j == 10:\n",
    "            print(j)\n",
    "            break   \n",
    "    #break exits to here"
   ]
  },
  {
   "cell_type": "code",
   "execution_count": null,
   "metadata": {},
   "outputs": [],
   "source": [
    "if False:\n",
    "    pass #do nothing\n",
    "else:\n",
    "    print('True!')"
   ]
  },
  {
   "cell_type": "markdown",
   "metadata": {},
   "source": [
    "https://informatics.msk.ru/mod/statements/view.php?id=11145#1"
   ]
  },
  {
   "cell_type": "markdown",
   "metadata": {},
   "source": [
    "# Вложенные циклы"
   ]
  },
  {
   "cell_type": "code",
   "execution_count": null,
   "metadata": {},
   "outputs": [],
   "source": [
    "#Выведите на экран таблицу умножения чисел от 1 до 9."
   ]
  },
  {
   "cell_type": "code",
   "execution_count": null,
   "metadata": {},
   "outputs": [],
   "source": [
    "# Выведите на экран таблицу сложения чисел от 1 до 9, т.е. каждый элемент таблицы это значение суммы индекса строки и столбца."
   ]
  },
  {
   "cell_type": "code",
   "execution_count": null,
   "metadata": {},
   "outputs": [],
   "source": [
    "# Выведите на экран таблицу степеней числа a в степени b, где a и b - числа от 1 до 5, т.е. каждый элемент таблицы это значение индекса строки, возведенное в степень равное индексу столбца"
   ]
  },
  {
   "cell_type": "code",
   "execution_count": null,
   "metadata": {},
   "outputs": [],
   "source": [
    "# Выведите на экран таблицу деления числа a на число b, где a и b - числа от 1 до 5, т.е. каждый элемент таблицы это значение частного от деления индекса строки на индекс столбца с точностью 2 знака после запятой. Для форматирования вывода дробного числа используйте функцию round(x, 2) Эта функция принимает на вход число x и количество знаков после запятой, которые нужно оставить при выводе. В данном случае это 2."
   ]
  },
  {
   "cell_type": "markdown",
   "metadata": {},
   "source": [
    "Программа получает на вход натуральное число N (1 ≤ N ≤100). Выведите на экран таблицу размером NxN, заполненную по следующему правилу: строка с индексом 0 и N-1 заполнена 1, все остальные строки 0.\n",
    "\n",
    "Пример\n",
    "\n",
    "Входные значения \n",
    "\n",
    "4 \n",
    "\n",
    "Выходные данные\n",
    "\n",
    "1 1 1 1 \n",
    "\n",
    "0 0 0 0\n",
    "\n",
    "0 0 0 0\n",
    "\n",
    "1 1 1 1"
   ]
  },
  {
   "cell_type": "code",
   "execution_count": null,
   "metadata": {},
   "outputs": [],
   "source": []
  },
  {
   "cell_type": "markdown",
   "metadata": {},
   "source": [
    "№10. Программа получает на вход натуральное число N (1 ≤ N ≤100). Выведите на экран таблицу размером NxN, заполненную по следующему правилу: ко краям таблицы стоят 1, а в середине 0.\n",
    "\n",
    "Пример\n",
    "\n",
    "Входные значения\n",
    "\n",
    "4 \n",
    "\n",
    " Выходные значения\n",
    " \n",
    " 1 1 1 1 \n",
    " \n",
    " 1 0 0 1 \n",
    " \n",
    " 1 0 0 1 \n",
    " \n",
    " 1 1 1 1"
   ]
  },
  {
   "cell_type": "code",
   "execution_count": null,
   "metadata": {},
   "outputs": [],
   "source": []
  },
  {
   "cell_type": "code",
   "execution_count": null,
   "metadata": {},
   "outputs": [],
   "source": [
    "Программа получает на вход натуральное число N (1 ≤ N ≤100). Выведите на экран таблицу размером NxN, по углам которой стоят 1, все остальные элементы 0.\n",
    "\n",
    "Пример\n",
    "\n",
    "Входные значения \n",
    "4 \n",
    "Выходные значения\n",
    "\n",
    "1 0 0 1 \n",
    "\n",
    "0 0 0 0 \n",
    "\n",
    "0 0 0 0 \n",
    "\n",
    "1 0 0 1"
   ]
  },
  {
   "cell_type": "code",
   "execution_count": null,
   "metadata": {},
   "outputs": [],
   "source": []
  },
  {
   "cell_type": "code",
   "execution_count": null,
   "metadata": {},
   "outputs": [],
   "source": [
    "Программа получает на вход натуральное число N (2 ≤ N ≤100, N - четное). Выведите на экран таблицу размером NxN, верхняя половина которой заполнена 1, а нижняя 0.\n",
    "\n",
    "Пример\n",
    "\n",
    "Входные значения \n",
    "\n",
    "4 \n",
    "Выходные значения\n",
    "\n",
    "1 1 1 1\n",
    "\n",
    "1 1 1 1 \n",
    "\n",
    "0 0 0 0 \n",
    "\n",
    "0 0 0 0"
   ]
  },
  {
   "cell_type": "code",
   "execution_count": null,
   "metadata": {},
   "outputs": [],
   "source": []
  },
  {
   "cell_type": "markdown",
   "metadata": {},
   "source": [
    "Программа получает на вход натуральное число N (2 ≤ N ≤100, N - четное). Выведите на экран таблицу размером NxN, верхняя четверть заполнена 1, а все остальные элементы 0.\n",
    "\n",
    "Пример\n",
    "\n",
    "Входные значения\n",
    "\n",
    "4  \n",
    "Выходные значения\n",
    "1 1 0 0 \n",
    "\n",
    "1 1 0 0 \n",
    "\n",
    "0 0 0 0 \n",
    "\n",
    "0 0 0 0"
   ]
  },
  {
   "cell_type": "code",
   "execution_count": null,
   "metadata": {},
   "outputs": [],
   "source": []
  },
  {
   "cell_type": "markdown",
   "metadata": {},
   "source": [
    "Программа получает на вход натуральное число N (3 ≤ N ≤100, N - нечетное). Выведите на экран таблицу размером NxN, средний столбец и средняя строка которой заполнены единицами, все остальные элементы нули.\n",
    "\n",
    "Пример\n",
    "\n",
    "Входные значения \n",
    "\n",
    "5 \n",
    "Выходные значения\n",
    "0 0 1 0 0 \n",
    "\n",
    "0 0 1 0 0 \n",
    "\n",
    "1 1 1 1 1\n",
    "\n",
    "0 0 1 0 0 \n",
    "\n",
    "0 0 1 0 0"
   ]
  },
  {
   "cell_type": "code",
   "execution_count": null,
   "metadata": {},
   "outputs": [],
   "source": []
  },
  {
   "cell_type": "code",
   "execution_count": null,
   "metadata": {},
   "outputs": [],
   "source": [
    "Программа получает на вход натуральное число N (1 ≤ N ≤100). Выведите на экран таблицу размером NxN, в которой на главной диагонали стоят 1, а все остальные места заполнен 0.\n",
    "\n",
    "Пример\n",
    "\n",
    "Входные значения \n",
    "\n",
    "4 \n",
    "Выходные значения\n",
    "\n",
    "1 0 0 0 \n",
    "\n",
    "0 1 0 0 \n",
    "\n",
    "0 0 1 0 \n",
    "\n",
    "0 0 0 1"
   ]
  },
  {
   "cell_type": "code",
   "execution_count": null,
   "metadata": {},
   "outputs": [],
   "source": []
  },
  {
   "cell_type": "code",
   "execution_count": null,
   "metadata": {},
   "outputs": [],
   "source": [
    "Программа получает на вход натуральное число N (1 ≤ N ≤100). Выведите на экран таблицу размером NxN, в которой на главной диагонали и ниже стоят 1, а все остальные места заполнен 0.\n",
    "\n",
    "Пример\n",
    "\n",
    "Входные значения \n",
    "\n",
    "4 \n",
    "\n",
    "Выходные значения\n",
    "\n",
    "1 0 0 0\n",
    "\n",
    "1 1 0 0 \n",
    "\n",
    "1 1 1 0 \n",
    "\n",
    "1 1 1 1"
   ]
  },
  {
   "cell_type": "code",
   "execution_count": null,
   "metadata": {},
   "outputs": [],
   "source": []
  },
  {
   "cell_type": "code",
   "execution_count": null,
   "metadata": {},
   "outputs": [],
   "source": [
    "Программа получает на вход натуральное число N (2 ≤ N ≤100, N - четное). Выведите на экран таблицу размером NxN, нижний угол первой четверти которой заполнен единицами, а все остальные элементы нулями.\n",
    "\n",
    "Пример\n",
    "\n",
    "Входные значения \n",
    "\n",
    "6 \n",
    "\n",
    "Выходные значения\n",
    "1 0 0 0 0 0 \n",
    "\n",
    "1 1 0 0 0 0 \n",
    "\n",
    "1 1 1 0 0 0 \n",
    "\n",
    "0 0 0 0 0 0 \n",
    "\n",
    "0 0 0 0 0 0 \n",
    "\n",
    "0 0 0 0 0 0"
   ]
  },
  {
   "cell_type": "code",
   "execution_count": 2,
   "metadata": {},
   "outputs": [
    {
     "name": "stdout",
     "output_type": "stream",
     "text": [
      "5\n",
      "1\n",
      "7\n",
      "9\n",
      "1\n"
     ]
    }
   ],
   "source": [
    "def mm(a,b):\n",
    "    if a < b:\n",
    "        return a\n",
    "    else:\n",
    "        return b\n",
    "\n",
    "a, b, c, d = int(input()), int(input()), int(input()), int(input())\n",
    "print (mm(mm(a,b), mm(c, d)) )"
   ]
  },
  {
   "cell_type": "code",
   "execution_count": null,
   "metadata": {},
   "outputs": [],
   "source": [
    "def my_func(*args):\n",
    "    \n",
    "    return min(args)\n",
    "\n"
   ]
  },
  {
   "cell_type": "code",
   "execution_count": null,
   "metadata": {},
   "outputs": [],
   "source": []
  }
 ],
 "metadata": {
  "kernelspec": {
   "display_name": "Python 3",
   "language": "python",
   "name": "python3"
  },
  "language_info": {
   "codemirror_mode": {
    "name": "ipython",
    "version": 3
   },
   "file_extension": ".py",
   "mimetype": "text/x-python",
   "name": "python",
   "nbconvert_exporter": "python",
   "pygments_lexer": "ipython3",
   "version": "3.8.3"
  }
 },
 "nbformat": 4,
 "nbformat_minor": 4
}
